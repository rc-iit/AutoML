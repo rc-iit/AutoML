{
 "cells": [
  {
   "cell_type": "markdown",
   "metadata": {},
   "source": [
    "# Oracle AutoML practical approach\n",
    "\n",
    "## The following code can be used in an Oracle Machine Learning Notebook (Oracle Cloud Infrastructure)."
   ]
  },
  {
   "cell_type": "markdown",
   "metadata": {},
   "source": [
    "Divide data into two subsets: train dataset and test dataset."
   ]
  },
  {
   "cell_type": "code",
   "execution_count": null,
   "metadata": {
    "autoscroll": "auto"
   },
   "outputs": [],
   "source": [
    "%script\n",
    "CREATE TABLE MOVIESTREAM_CHURN_TRAIN AS SELECT * FROM MOVIESTREAM_CHURN SAMPLE (85) SEED (30); \n",
    "CREATE TABLE MOVIESTREAM_CHURN_TEST AS SELECT * FROM MOVIESTREAM_CHURN MINUS SELECT * from MOVIESTREAM_CHURN_TRAIN;"
   ]
  },
  {
   "cell_type": "markdown",
   "metadata": {},
   "source": [
    "Importing libraries"
   ]
  },
  {
   "cell_type": "code",
   "execution_count": 2,
   "metadata": {
    "autoscroll": "auto"
   },
   "outputs": [],
   "source": [
    "%python\n",
    "import pandas as pd\n",
    "import oml\n",
    "from oml import automl"
   ]
  },
  {
   "cell_type": "markdown",
   "metadata": {},
   "source": [
    "Prepare the training dataset: the __sync__ function returns in the notebook session an __oml.DataFrame__ object which is a proxy pointing to the database object (table, view or query)."
   ]
  },
  {
   "cell_type": "code",
   "execution_count": 3,
   "metadata": {
    "autoscroll": "auto"
   },
   "outputs": [],
   "source": [
    "%python\n",
    "MCT = oml.sync(\"MOVIESTREAM\", table = \"MOVIESTREAM_CHURN_TRAIN\")\n",
    "MCT_X_cl, MCT_y_cl = MCT.drop('IS_CHURNER'), MCT['IS_CHURNER']"
   ]
  },
  {
   "cell_type": "markdown",
   "metadata": {},
   "source": [
    "__Automatic Algorithm Selection__. \n",
    "_Score metric_ parameter represents the evaluation metric used to evaluate the model performance. There are several metrics that can be used for binary classification: _accuracy_ (default), _precision_, _precision_weighted_, _precision_macro_, _precision_micro_, _recall_, _recall_weighted_, _recall_macro_, _recall_micro_, _f1_, _f1_macro_, _f1_micro_, _f1_weighted_, _roc_auc_. The degree of parallelism is determined by the _parallel_ parameter. The second step (_select_) uses this setup and rank the available proxy models to find the “best models”. The parameter “$k$” specifies the number of top models to be included in the return list. Models returned: 'rf' = Random Forest (RF) – the best model, 'dt' = Decision Tree (DT), 'svm_gaussian' = Support Vector Machine with Gaussian kernel (SVMG) and 'glm_ridge' = Generalized Linear Model for Regression (GLMR)."
   ]
  },
  {
   "cell_type": "code",
   "execution_count": 5,
   "metadata": {
    "autoscroll": "auto"
   },
   "outputs": [],
   "source": [
    "%python\n",
    "as_mct_cl = automl.AlgorithmSelection(mining_function='classification', score_metric='accuracy', parallel=2)\n",
    "mct_alg_ranking_cl = as_mct_cl.select(MCT_X_cl, MCT_y_cl, k=4)\n",
    "print(\"Ranked algorithms:\\n\", mct_alg_ranking_cl)\n",
    "best_mct_alg_cl = next(iter(dict(mct_alg_ranking_cl).keys()))\n",
    "print(\"Best algorithm: \", best_mct_alg_cl)"
   ]
  },
  {
   "cell_type": "markdown",
   "metadata": {},
   "source": [
    "__Automatic Feature Selection__. _FeatureSelection_ configures this pipeline stage for _classification_, using _accuracy_ as the evaluation metric and sets the degree of parallelism for evaluating the subsets of features at value $2$. The _reduce_ function correlates data with the model ('rf') and returns the reduced set of features/attributes/columns, optimized to improve the model performance in relation to the evaluation or score metric."
   ]
  },
  {
   "cell_type": "code",
   "execution_count": 6,
   "metadata": {
    "autoscroll": "auto"
   },
   "outputs": [],
   "source": [
    "%python\n",
    "fs_mct_cl = automl.FeatureSelection(mining_function = 'classification', score_metric = 'accuracy', parallel=2)\n",
    "selected_mct_features_cl = fs_mct_cl.reduce('dt', MCT_X_cl, MCT_y_cl)\n",
    "MCT_X_reduced_cl = MCT_X_cl[:,selected_mct_features_cl]\n",
    "print(\"Selected columns:\", MCT_X_reduced_cl.columns)"
   ]
  },
  {
   "cell_type": "markdown",
   "metadata": {},
   "source": [
    "Reducing the number of columns in the training/test data sets (subsets of features)"
   ]
  },
  {
   "cell_type": "code",
   "execution_count": 17,
   "metadata": {
    "autoscroll": "auto"
   },
   "outputs": [],
   "source": [
    "%sql\n",
    "create table MOVIESTREAM_CHURN_RED_TRAIN as \n",
    "select CUST_ID, IS_CHURNER,\n",
    "       AGE, CREDIT_BALANCE, EDUCATION, GENDER, WORK_EXPERIENCE, YRS_CURRENT_EMPLOYER, YRS_CUSTOMER, APP_MOBILE, AVG_DISC_M12, \n",
    "       AVG_DISC_M12_14, AVG_DISC_M3_8, AVG_DISC_M6, AVG_DISC_M6_8, AVG_NTRANS_M3_11, AVG_NTRANS_M3_14, AVG_NTRANS_M3_5, AVG_NTRANS_M3_8\n",
    "from MOVIESTREAM_CHURN_TRAIN\n",
    "\n",
    "create table MOVIESTREAM_CHURN_RED_TEST as \n",
    "select CUST_ID, IS_CHURNER,\n",
    "       AGE, CREDIT_BALANCE, EDUCATION, GENDER, WORK_EXPERIENCE, YRS_CURRENT_EMPLOYER, YRS_CUSTOMER, APP_MOBILE, AVG_DISC_M12, \n",
    "       AVG_DISC_M12_14, AVG_DISC_M3_8, AVG_DISC_M6, AVG_DISC_M6_8, AVG_NTRANS_M3_11, AVG_NTRANS_M3_14, AVG_NTRANS_M3_5, AVG_NTRANS_M3_8\n",
    "from MOVIESTREAM_CHURN_TEST"
   ]
  },
  {
   "cell_type": "markdown",
   "metadata": {},
   "source": [
    "__Automatic Model Tuning__ - takes the details generated from the previous steps and use this to generate a tuned model. A time limit of five minutes has been set."
   ]
  },
  {
   "cell_type": "code",
   "execution_count": null,
   "metadata": {
    "autoscroll": "auto"
   },
   "outputs": [],
   "source": [
    "%python\n",
    "mt_mct_cl = automl.ModelTuning(mining_function = 'classification', parallel=2)\n",
    "results_cl = mt_mct_cl.tune('rf', MCT_X_reduced_cl, MCT_y_cl, time_budget = 300)\n",
    "tuned_model_cl = results_cl['best_model']"
   ]
  },
  {
   "cell_type": "markdown",
   "metadata": {},
   "source": [
    "__Save tuned model in the database__."
   ]
  },
  {
   "cell_type": "code",
   "execution_count": 20,
   "metadata": {
    "autoscroll": "auto"
   },
   "outputs": [],
   "source": [
    "%python\n",
    "dt_export = tuned_model_cl.export_sermodel(table='model_rf_moviestream_churn')"
   ]
  },
  {
   "cell_type": "markdown",
   "metadata": {},
   "source": [
    "__Restore tuned model from the database__."
   ]
  },
  {
   "cell_type": "code",
   "execution_count": 22,
   "metadata": {
    "autoscroll": "auto"
   },
   "outputs": [],
   "source": [
    "%script\n",
    "DECLARE\n",
    "  v_blob blob;\n",
    "    \n",
    "BEGIN\n",
    "  dbms_lob.createtemporary(v_blob, FALSE);\n",
    "  SELECT SERVAL INTO v_blob FROM \"model_rf_moviestream_churn\";\n",
    "  dbms_data_mining.import_sermodel(v_blob, 'model_rf_moviestream_churn');\n",
    "  dbms_lob.freetemporary(v_blob);\n",
    "END;             "
   ]
  },
  {
   "cell_type": "markdown",
   "metadata": {},
   "source": [
    "__Score the tuned machine learning model via SQL functions__. The SQL functions (PREDICTION, PREDICTION_PROBABILITY) can apply a machine learning model schema object to the data."
   ]
  },
  {
   "cell_type": "code",
   "execution_count": 23,
   "metadata": {
    "autoscroll": "auto"
   },
   "outputs": [],
   "source": [
    "%script\n",
    "create table RF_Train_Prediction\n",
    "as \n",
    "SELECT CUST_ID as ID, IS_CHURNER as ACTUALVALUE,\n",
    "       PREDICTION(model_rf_moviestream_churn USING *) AS PREDICTEDVALUE,\n",
    "       round(PREDICTION_PROBABILITY(model_rf_moviestream_churn USING *),2) AS PREDICTIONCONFIDENCE\n",
    "FROM MOVIESTREAM_CHURN_RED_TRAIN;"
   ]
  }
 ],
 "metadata": {
  "kernelspec": {
   "display_name": "Python 3 (ipykernel)",
   "language": "python",
   "name": "python3"
  },
  "language_info": {
   "codemirror_mode": {
    "name": "ipython",
    "version": 3
   },
   "file_extension": ".py",
   "mimetype": "text/x-python",
   "name": "python",
   "nbconvert_exporter": "python",
   "pygments_lexer": "ipython3",
   "version": "3.8.15"
  },
  "name": "Moviestream_rf"
 },
 "nbformat": 4,
 "nbformat_minor": 4
}
