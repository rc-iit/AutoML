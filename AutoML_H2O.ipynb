{
 "cells": [
  {
   "cell_type": "markdown",
   "id": "1c2d6126",
   "metadata": {},
   "source": [
    "# H2O practical approach\n",
    "## The following code can be used in an Jupyter Notebook (Python 3.8.X, H2O cluster version 3.36.0.1)."
   ]
  },
  {
   "cell_type": "markdown",
   "id": "c4249aad",
   "metadata": {},
   "source": [
    "Import the required modules."
   ]
  },
  {
   "cell_type": "code",
   "execution_count": null,
   "id": "7b1624a1",
   "metadata": {},
   "outputs": [],
   "source": [
    "import h2o\n",
    "from h2o.automl import H2OAutoML\n",
    "import numpy as np\n",
    "from pandas import read_csv\n",
    "from numpy import set_printoptions\n",
    "from sklearn.model_selection import train_test_split\n",
    "from sklearn.preprocessing import LabelEncoder\n",
    "from sklearn.metrics import accuracy_score"
   ]
  },
  {
   "cell_type": "markdown",
   "id": "bbaebfba",
   "metadata": {},
   "source": [
    "Attempting to start a local H2O server"
   ]
  },
  {
   "cell_type": "code",
   "execution_count": null,
   "id": "5b639243",
   "metadata": {},
   "outputs": [],
   "source": [
    "h2o.init()"
   ]
  },
  {
   "cell_type": "markdown",
   "id": "68437983",
   "metadata": {},
   "source": [
    "Reading the data."
   ]
  },
  {
   "cell_type": "code",
   "execution_count": null,
   "id": "ce2a98b9",
   "metadata": {},
   "outputs": [],
   "source": [
    "filename = 'MOVIESTREAM_CHURN_RED_TRAIN.csv'\n",
    "dataframe = read_csv(filename)"
   ]
  },
  {
   "cell_type": "markdown",
   "id": "7f4dee45",
   "metadata": {},
   "source": [
    "Data preprocessing: filling missing values, substitution of values, select the training features and target feature."
   ]
  },
  {
   "cell_type": "code",
   "execution_count": null,
   "id": "aeef8d21",
   "metadata": {},
   "outputs": [],
   "source": [
    "dataframe['YRS_CURRENT_EMPLOYER'] = dataframe['YRS_CURRENT_EMPLOYER'].fillna(0)\n",
    "dataframe['IS_CHURNER'] = dataframe['IS_CHURNER'].replace(['no'], 0)\n",
    "dataframe['IS_CHURNER'] = dataframe['IS_CHURNER'].replace(['yes'], 1)\n",
    "array = dataframe.values\n",
    "ID_train = array[:,0]\n",
    "y_train = array[:,-1]\n",
    "htrain = h2o.H2OFrame(dataframe)\n",
    "htrain['IS_CHURNER'] = htrain['IS_CHURNER'].asfactor()\n",
    "x = htrain.columns\n",
    "y = 'IS_CHURNER'\n",
    "x.remove(y)\n",
    "x.remove('CUST_ID')"
   ]
  },
  {
   "cell_type": "markdown",
   "id": "23679a9b",
   "metadata": {},
   "source": [
    "__Model selection and tuning__. The time limit for running AutoML is set to five minutes. In this scenario we removed algorithms like Stacked Ensemble and Deep Learning."
   ]
  },
  {
   "cell_type": "code",
   "execution_count": null,
   "id": "2ec64a34",
   "metadata": {},
   "outputs": [],
   "source": [
    "aml = H2OAutoML(max_models = 3, max_runtime_secs=300, exclude_algos=['StackedEnsemble','DeepLearning'], seed = 1)"
   ]
  },
  {
   "cell_type": "markdown",
   "id": "07fb3711",
   "metadata": {},
   "source": [
    "__Training H2O AutoML__. The AutoML leaderboard uses cross-validation metrics to rank the models. The leader model is stored at _aml.leader_ and the leaderboard is stored at _aml.leaderboard_."
   ]
  },
  {
   "cell_type": "code",
   "execution_count": null,
   "id": "8d777c46",
   "metadata": {},
   "outputs": [],
   "source": [
    "aml.train(x=x, y=y, training_frame=htrain)"
   ]
  },
  {
   "cell_type": "markdown",
   "id": "d8ccbb13",
   "metadata": {},
   "source": [
    "Checking the Leaderboard."
   ]
  },
  {
   "cell_type": "code",
   "execution_count": null,
   "id": "28fb3d01",
   "metadata": {},
   "outputs": [],
   "source": [
    "lb = aml.leaderboard\n",
    "lb.head()"
   ]
  },
  {
   "cell_type": "markdown",
   "id": "6af25d0c",
   "metadata": {},
   "source": [
    "__Save the best model to filesystem__."
   ]
  },
  {
   "cell_type": "code",
   "execution_count": null,
   "id": "5bc2e9f8",
   "metadata": {},
   "outputs": [],
   "source": [
    "model_path = h2o.save_model(aml.leader, path = \"h2o_model\")\n",
    "print(model_path) "
   ]
  },
  {
   "cell_type": "markdown",
   "id": "473350a7",
   "metadata": {},
   "source": [
    "__H2O Explainability interface__ is a convenient wrapper to a number of explainabilty methods and visualizations in H2O. The _explain()_ function generates a list of explanations – individual units of explanation such as a Partial Dependence plot, a Feature Importance plot or a SHapley Additive exPlanations (SHAP) Summary of Top Tree-based Model."
   ]
  },
  {
   "cell_type": "code",
   "execution_count": null,
   "id": "bb28934f",
   "metadata": {},
   "outputs": [],
   "source": [
    "xplain_model = aml.leader.explain(htrain)"
   ]
  },
  {
   "cell_type": "markdown",
   "id": "bbb61b25",
   "metadata": {},
   "source": [
    "__Predicting on train data using the leader model__. The predict function outputs predicted classes, as well as the probability estimates for each of the classes (confidence)."
   ]
  },
  {
   "cell_type": "code",
   "execution_count": null,
   "id": "1f0fc892",
   "metadata": {},
   "outputs": [],
   "source": [
    "pred_h2o = aml.leader.predict(htrain)\n",
    "pred_pandas=pred_h2o.as_data_frame(use_pandas=True)\n",
    "print(pred_pandas)\n",
    "probs = pred_pandas.values"
   ]
  },
  {
   "cell_type": "markdown",
   "id": "1f75d253",
   "metadata": {},
   "source": [
    "__Restore the model from the filesystem__."
   ]
  },
  {
   "cell_type": "code",
   "execution_count": null,
   "id": "8a936f90",
   "metadata": {},
   "outputs": [],
   "source": [
    "saved_model = h2o.load_model(model_path)"
   ]
  }
 ],
 "metadata": {
  "kernelspec": {
   "display_name": "Python 3 (ipykernel)",
   "language": "python",
   "name": "python3"
  },
  "language_info": {
   "codemirror_mode": {
    "name": "ipython",
    "version": 3
   },
   "file_extension": ".py",
   "mimetype": "text/x-python",
   "name": "python",
   "nbconvert_exporter": "python",
   "pygments_lexer": "ipython3",
   "version": "3.8.15"
  }
 },
 "nbformat": 4,
 "nbformat_minor": 5
}
