{
 "cells": [
  {
   "cell_type": "markdown",
   "id": "e04647f8-1ce9-44dc-b769-e6977d2cda67",
   "metadata": {
    "tags": []
   },
   "source": [
    "# FEDOT practical approach\n",
    "## The following code can be used in an Jupyter Notebook (Python 3.8.X, FEDOT 0.7.1)."
   ]
  },
  {
   "cell_type": "code",
   "execution_count": null,
   "id": "a8d85484-bc39-4ad1-a61b-82c01b5fdde4",
   "metadata": {
    "tags": []
   },
   "outputs": [],
   "source": [
    "Import Python modules and prepare the training data set."
   ]
  },
  {
   "cell_type": "code",
   "execution_count": null,
   "id": "19375dc0",
   "metadata": {
    "tags": []
   },
   "outputs": [],
   "source": [
    "import pandas as pd\n",
    "import warnings\n",
    "from sklearn.preprocessing import LabelEncoder\n",
    "warnings.filterwarnings(\"ignore\")\n",
    "import logging\n",
    "logging.raiseExceptions = False"
   ]
  },
  {
   "cell_type": "code",
   "execution_count": null,
   "id": "d172d76a-a972-42f5-93e1-e926e2936e31",
   "metadata": {},
   "outputs": [],
   "source": [
    "filename = 'MOVIESTREAM_CHURN_RED_TRAIN.csv'\n",
    "dataframe = pd.read_csv(filename)\n",
    "dataframe['YRS_CURRENT_EMPLOYER'] = dataframe['YRS_CURRENT_EMPLOYER'].fillna(0)\n",
    "dataframe['IS_CHURNER'] = dataframe['IS_CHURNER'].replace(['no'], 0)\n",
    "dataframe['IS_CHURNER'] = dataframe['IS_CHURNER'].replace(['yes'], 1)\n",
    "array = dataframe.values\n",
    "ID_train = array[:,0]\n",
    "X_train = array[:,1:-1]\n",
    "y_train = array[:,-1]\n",
    "X_train = X_train.astype('float32')\n",
    "y_train = LabelEncoder().fit_transform(y_train.astype('str'))"
   ]
  },
  {
   "cell_type": "markdown",
   "id": "ce83b37f-5a93-4b9e-b59a-4ab2a60b6131",
   "metadata": {},
   "source": [
    "__Build a Classification model__. A time budget of five minutes has been set. The _n_jobs_ parameter establishes the number of jobs to run in parallel. _metric_ parameter represents the evaluation metric to evaluate the model performance. "
   ]
  },
  {
   "cell_type": "code",
   "execution_count": 44,
   "id": "e8fccf37",
   "metadata": {},
   "outputs": [],
   "source": [
    "# New instance to be used as AutoML tool\n",
    "from fedot.api.main import Fedot\n",
    "from fedot.core.repository.quality_metrics_repository import ClassificationMetricsEnum\n",
    "from fedot.core.repository.quality_metrics_repository import MetricsRepository\n",
    "\n",
    "metric_function = MetricsRepository().metric_by_id(ClassificationMetricsEnum.accuracy)\n",
    "auto_model = Fedot(problem='classification', n_jobs=2, seed=42, with_tuning=True, metric = metric_function, timeout=5)"
   ]
  },
  {
   "cell_type": "markdown",
   "id": "4207b118-551c-4e66-8fbd-0203ac4ba660",
   "metadata": {
    "tags": []
   },
   "source": [
    "_fit_ method optimizes the machine learning model."
   ]
  },
  {
   "cell_type": "code",
   "execution_count": null,
   "id": "30b3576a",
   "metadata": {
    "tags": []
   },
   "outputs": [],
   "source": [
    "# run of the AutoML-based model generation\n",
    "pipeline = auto_model.fit(features=X_train, target=y_train)"
   ]
  },
  {
   "cell_type": "markdown",
   "id": "ca9681fd",
   "metadata": {},
   "source": [
    "__Save optimized model to a file__. "
   ]
  },
  {
   "cell_type": "code",
   "execution_count": null,
   "id": "afa96584-5150-43f9-a841-c8104b5766cc",
   "metadata": {},
   "outputs": [],
   "source": [
    "pipeline = auto_model.current_pipeline\n",
    "path_to_save = './fedot/auto_model.json'\n",
    "pipeline.save(path=path_to_save, create_subdir=True, is_datetime_in_path=False)"
   ]
  },
  {
   "cell_type": "markdown",
   "id": "0fb980e3-9342-422d-9069-986d4f3d563c",
   "metadata": {},
   "source": [
    "__Evaluate the best model__. "
   ]
  },
  {
   "cell_type": "code",
   "execution_count": null,
   "id": "942f6a4d",
   "metadata": {
    "tags": []
   },
   "outputs": [],
   "source": [
    "from sklearn.metrics import accuracy_score\n",
    "y_pred = auto_model.predict(X_train)\n",
    "acc = accuracy_score(y_train, y_pred)\n",
    "print(\"Accuracy: %.3f\" % acc)"
   ]
  },
  {
   "cell_type": "markdown",
   "id": "1e2a992b",
   "metadata": {},
   "source": [
    "__Restore tuned model from the file__. "
   ]
  },
  {
   "cell_type": "code",
   "execution_count": null,
   "id": "b6be5745-9c46-40fe-afb9-f5fd4d7c1b42",
   "metadata": {},
   "outputs": [],
   "source": [
    "from fedot.core.repository.quality_metrics_repository import ClassificationMetricsEnum\n",
    "from fedot.core.repository.quality_metrics_repository import MetricsRepository\n",
    "from fedot.core.pipelines.pipeline import Pipeline\n",
    "metric_function = MetricsRepository().metric_by_id(ClassificationMetricsEnum.accuracy)\n",
    "path_to_load = './fedot/auto_model.json'\n",
    "saved_model = Pipeline().load(path_to_load)\n",
    "auto_model = Fedot(problem='classification', metric = metric_function)\n",
    "auto_model.fit(features=X_train, target=y_train, predefined_model=saved_model)"
   ]
  },
  {
   "cell_type": "markdown",
   "id": "7bf5c581",
   "metadata": {},
   "source": [
    "Prepare the testing data set."
   ]
  },
  {
   "cell_type": "code",
   "execution_count": null,
   "id": "4b7e4d59",
   "metadata": {
    "tags": []
   },
   "outputs": [],
   "source": [
    "filename = 'MOVIESTREAM_CHURN_RED_TEST.csv'\n",
    "dataframe = pd.read_csv(filename)\n",
    "dataframe['YRS_CURRENT_EMPLOYER'] = dataframe['YRS_CURRENT_EMPLOYER'].fillna(0)\n",
    "array = dataframe.values\n",
    "ID_test = array[:,0]\n",
    "X_test = array[:,1:-1]\n",
    "y_test = array[:,-1]\n",
    "print(X_test.shape, y_test.shape)\n",
    "X_test = X_test.astype('float32')\n",
    "y_test = LabelEncoder().fit_transform(y_test.astype('str'))"
   ]
  },
  {
   "cell_type": "markdown",
   "id": "ee728740",
   "metadata": {},
   "source": [
    "__Score the machine learning model__: the predicted values and the probability estimates for each value are obtained. "
   ]
  },
  {
   "cell_type": "code",
   "execution_count": null,
   "id": "d1ac8b9e",
   "metadata": {},
   "outputs": [],
   "source": [
    "y_pred = auto_model.predict(X_test)\n",
    "acc = accuracy_score(y_test, y_pred)\n",
    "print(\"Accuracy: %.3f\" % acc)"
   ]
  },
  {
   "cell_type": "markdown",
   "id": "4d68868f-9056-4f9b-ac58-9a66b83a9303",
   "metadata": {},
   "source": [
    "Predicting on test data using the tuned model. The _predict_proba_ function outputs predicted classes, as well as the probability estimates for each of the classes (confidence)."
   ]
  },
  {
   "cell_type": "code",
   "execution_count": null,
   "id": "acd971a4",
   "metadata": {},
   "outputs": [],
   "source": [
    "probs= auto_model.predict_proba(features=X_test)\n",
    "pred_confidence = []\n",
    "for i in range(len(probs)):\n",
    "  if (y_pred[i]==0):\n",
    "    pred_confidence.append(1-probs[i,0])\n",
    "  else:\n",
    "    pred_confidence.append(probs[i,0])\n",
    "\n",
    "ds_id = pd.DataFrame(ID_test, columns = [\"ID\"])\n",
    "ds_actual = pd.DataFrame(y_test, columns = [\"ACTUALVALUE\"])\n",
    "ds_pred = pd.DataFrame(y_pred, columns = [\"PREDICTEDVALUE\"])\n",
    "ds_prob = pd.DataFrame(pred_confidence, columns = [\"PREDICTIONCONFIDENCE\"])\n",
    "dataframe = pd.concat([ds_id, ds_actual, ds_pred, ds_prob], axis=1)\n",
    "dataframe.to_csv('fedot_test_pred.csv',index=False)"
   ]
  },
  {
   "cell_type": "markdown",
   "id": "c24140e7",
   "metadata": {},
   "source": [
    "__Build the confusion matrix__"
   ]
  },
  {
   "cell_type": "code",
   "execution_count": null,
   "id": "739afaf0",
   "metadata": {},
   "outputs": [],
   "source": [
    "from sklearn.metrics import confusion_matrix\n",
    "\n",
    "conf_matrix = confusion_matrix(y_true=y_test, y_pred=y_pred)"
   ]
  },
  {
   "cell_type": "markdown",
   "id": "9dab64f1",
   "metadata": {},
   "source": [
    "__Display the confusion matrix__"
   ]
  },
  {
   "cell_type": "code",
   "execution_count": null,
   "id": "31151df1",
   "metadata": {},
   "outputs": [],
   "source": [
    "from mlxtend.plotting import plot_confusion_matrix\n",
    " \n",
    "fig, ax = plot_confusion_matrix(conf_mat=conf_matrix, figsize=(2, 2), cmap=plt.cm.Greens)\n",
    "plt.xlabel('Predictions', fontsize=11)\n",
    "plt.ylabel('Actuals', fontsize=11)\n",
    "plt.title('Confusion Matrix', fontsize=11)\n",
    "plt.show()"
   ]
  },
  {
   "cell_type": "markdown",
   "id": "3ee06124",
   "metadata": {},
   "source": [
    "__Calculate the performance metrics__"
   ]
  },
  {
   "cell_type": "code",
   "execution_count": null,
   "id": "4d3a5e1b",
   "metadata": {},
   "outputs": [],
   "source": [
    "from sklearn.metrics import precision_score, recall_score, f1_score, accuracy_score\n",
    "\n",
    "print('Precision: %.3f' % precision_score(y_test, y_pred))\n",
    "print('Recall: %.3f' % recall_score(y_test, y_pred))\n",
    "print('Accuracy: %.3f' % accuracy_score(y_test, y_pred))\n",
    "print('F1 Score: %.3f' % f1_score(y_test, y_pred))"
   ]
  }
 ],
 "metadata": {
  "kernelspec": {
   "display_name": "Python 3 (ipykernel)",
   "language": "python",
   "name": "python3"
  },
  "language_info": {
   "codemirror_mode": {
    "name": "ipython",
    "version": 3
   },
   "file_extension": ".py",
   "mimetype": "text/x-python",
   "name": "python",
   "nbconvert_exporter": "python",
   "pygments_lexer": "ipython3",
   "version": "3.8.15"
  }
 },
 "nbformat": 4,
 "nbformat_minor": 5
}
